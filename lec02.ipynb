{
  "nbformat": 4,
  "nbformat_minor": 0,
  "metadata": {
    "colab": {
      "name": "lec02.ipynb",
      "provenance": [],
      "authorship_tag": "ABX9TyPnGAafL39RlqJFbVa49BJ0",
      "include_colab_link": true
    },
    "kernelspec": {
      "name": "python3",
      "display_name": "Python 3"
    }
  },
  "cells": [
    {
      "cell_type": "markdown",
      "metadata": {
        "id": "view-in-github",
        "colab_type": "text"
      },
      "source": [
        "<a href=\"https://colab.research.google.com/github/SHsix/Embedded_System/blob/master/lec02.ipynb\" target=\"_parent\"><img src=\"https://colab.research.google.com/assets/colab-badge.svg\" alt=\"Open In Colab\"/></a>"
      ]
    },
    {
      "cell_type": "markdown",
      "metadata": {
        "id": "ripVzqYXAERA",
        "colab_type": "text"
      },
      "source": [
        "# Numpy 모듈 불러오기"
      ]
    },
    {
      "cell_type": "code",
      "metadata": {
        "id": "FRY19ZVAt7Sb",
        "colab_type": "code",
        "colab": {}
      },
      "source": [
        "import numpy as np"
      ],
      "execution_count": 0,
      "outputs": []
    },
    {
      "cell_type": "markdown",
      "metadata": {
        "id": "u4iJXmMaAKxm",
        "colab_type": "text"
      },
      "source": [
        "# Python List -> Numpy 배열\n",
        "#### size - 배열의 크기, dtype - 배열 원소의 타입\n",
        "#### Python List와 같이 index 접근이 가능합니다"
      ]
    },
    {
      "cell_type": "code",
      "metadata": {
        "id": "cG8duVPd_aeB",
        "colab_type": "code",
        "colab": {
          "base_uri": "https://localhost:8080/",
          "height": 89
        },
        "outputId": "36d74af9-5110-4825-a2fe-09609cee9145"
      },
      "source": [
        "list = [1, 2, 3]\n",
        "Array = np.array(list)\n",
        "\n",
        "print(Array)\n",
        "print(Array.size)\n",
        "print(Array.dtype)\n",
        "print(Array[1])"
      ],
      "execution_count": 4,
      "outputs": [
        {
          "output_type": "stream",
          "text": [
            "[1 2 3]\n",
            "3\n",
            "int64\n",
            "2\n"
          ],
          "name": "stdout"
        }
      ]
    },
    {
      "cell_type": "markdown",
      "metadata": {
        "id": "X7wiqn6YCrH_",
        "colab_type": "text"
      },
      "source": [
        "# 배열 초기화\n",
        "#### np.zeros -> 모든 값 0으로 초기화\n",
        "#### np.ones -> 모든 값 1로 초기화\n",
        "#### np.random.randint(0, 9, (3, 3)) -> 0 ~ 9 범위 내 (3, 3) 배열 생성"
      ]
    },
    {
      "cell_type": "code",
      "metadata": {
        "id": "TvSrNjwxAkha",
        "colab_type": "code",
        "colab": {
          "base_uri": "https://localhost:8080/",
          "height": 89
        },
        "outputId": "757278a6-5fcd-48d3-ad53-6d08100baec4"
      },
      "source": [
        "arr1 = np.zeros((4, 4))\n",
        "print(arr1)"
      ],
      "execution_count": 5,
      "outputs": [
        {
          "output_type": "stream",
          "text": [
            "[[0. 0. 0. 0.]\n",
            " [0. 0. 0. 0.]\n",
            " [0. 0. 0. 0.]\n",
            " [0. 0. 0. 0.]]\n"
          ],
          "name": "stdout"
        }
      ]
    },
    {
      "cell_type": "code",
      "metadata": {
        "id": "rjIvEY79Dtub",
        "colab_type": "code",
        "colab": {
          "base_uri": "https://localhost:8080/",
          "height": 71
        },
        "outputId": "860ba16a-3795-4c99-88bc-54058d7f87cc"
      },
      "source": [
        "arr2 = np.ones((3,3))\n",
        "print(arr2)"
      ],
      "execution_count": 7,
      "outputs": [
        {
          "output_type": "stream",
          "text": [
            "[[1. 1. 1.]\n",
            " [1. 1. 1.]\n",
            " [1. 1. 1.]]\n"
          ],
          "name": "stdout"
        }
      ]
    },
    {
      "cell_type": "code",
      "metadata": {
        "id": "tjFPkMScD-qh",
        "colab_type": "code",
        "colab": {
          "base_uri": "https://localhost:8080/",
          "height": 71
        },
        "outputId": "4649d7a4-a2d4-441b-f9b3-ce3b6eb02720"
      },
      "source": [
        "arr3 = np.random.randint(0, 9, (3, 3))\n",
        "print(arr3)"
      ],
      "execution_count": 9,
      "outputs": [
        {
          "output_type": "stream",
          "text": [
            "[[0 1 8]\n",
            " [4 8 7]\n",
            " [3 4 5]]\n"
          ],
          "name": "stdout"
        }
      ]
    },
    {
      "cell_type": "markdown",
      "metadata": {
        "id": "EHii_w-bHa3q",
        "colab_type": "text"
      },
      "source": [
        "# 배열 합치기\n",
        "![title](img/figure2.png)"
      ]
    }
  ]
}