{
  "nbformat": 4,
  "nbformat_minor": 0,
  "metadata": {
    "kernelspec": {
      "display_name": "Python 3",
      "language": "python",
      "name": "python3"
    },
    "language_info": {
      "codemirror_mode": {
        "name": "ipython",
        "version": 3
      },
      "file_extension": ".py",
      "mimetype": "text/x-python",
      "name": "python",
      "nbconvert_exporter": "python",
      "pygments_lexer": "ipython3",
      "version": "3.6.10"
    },
    "pycharm": {
      "stem_cell": {
        "cell_type": "raw",
        "metadata": {
          "collapsed": false
        },
        "source": []
      }
    },
    "colab": {
      "name": "lecture-checkpoint.ipynb",
      "provenance": [],
      "toc_visible": true,
      "include_colab_link": true
    }
  },
  "cells": [
    {
      "cell_type": "markdown",
      "metadata": {
        "id": "view-in-github",
        "colab_type": "text"
      },
      "source": [
        "<a href=\"https://colab.research.google.com/github/SHsix/Embedded_System/blob/master/Python_%EA%B8%B0%EC%B4%88/lec01.ipynb\" target=\"_parent\"><img src=\"https://colab.research.google.com/assets/colab-badge.svg\" alt=\"Open In Colab\"/></a>"
      ]
    },
    {
      "cell_type": "markdown",
      "metadata": {
        "pycharm": {
          "name": "#%% md\n"
        },
        "id": "w1ZgSfZJuKAb",
        "colab_type": "text"
      },
      "source": [
        "# 숫자형 변수\n",
        "#### 변수형 선언이 없다 (Ex. int age = 20 from c)"
      ]
    },
    {
      "cell_type": "code",
      "metadata": {
        "pycharm": {
          "is_executing": false
        },
        "id": "y9XWfMPYuKAd",
        "colab_type": "code",
        "outputId": "bfc1b95c-226c-480d-e5e6-7773e6094388",
        "colab": {}
      },
      "source": [
        "i_num = 1               # 변수명 = 값\n",
        "f_num = 3.14\n",
        "print(i_num, f_num)\n",
        "print(type(i_num), type(f_num))"
      ],
      "execution_count": 0,
      "outputs": [
        {
          "output_type": "stream",
          "text": [
            "1 3.14\n",
            "<class 'int'> <class 'float'>\n"
          ],
          "name": "stdout"
        }
      ]
    },
    {
      "cell_type": "markdown",
      "metadata": {
        "pycharm": {
          "name": "#%% md\n"
        },
        "id": "a5rspACluKAh",
        "colab_type": "text"
      },
      "source": [
        "# 문자열"
      ]
    },
    {
      "cell_type": "code",
      "metadata": {
        "pycharm": {
          "is_executing": false,
          "name": "#%%\n"
        },
        "id": "4EAgS8JCuKAh",
        "colab_type": "code",
        "outputId": "2ad9cc77-16ea-4140-8c4d-da587e5d30df",
        "colab": {}
      },
      "source": [
        "ch_1 = 'hello'\n",
        "ch_2 = ', '\n",
        "ch_3 = 'world!'\n",
        "print(ch_1, ch_2 + ch_3)\n",
        "print(type(ch_1))"
      ],
      "execution_count": 0,
      "outputs": [
        {
          "output_type": "stream",
          "text": [
            "hello , world!\n",
            "<class 'str'>\n"
          ],
          "name": "stdout"
        }
      ]
    },
    {
      "cell_type": "markdown",
      "metadata": {
        "pycharm": {
          "name": "#%% md\n"
        },
        "id": "PChXLd7-uKAk",
        "colab_type": "text"
      },
      "source": [
        "# 문자열 연산\n",
        "#### 덧셈 연산"
      ]
    },
    {
      "cell_type": "code",
      "metadata": {
        "pycharm": {
          "name": "#%%\n"
        },
        "id": "EyoDunMfuKAl",
        "colab_type": "code",
        "colab": {}
      },
      "source": [
        "head = 'Python'\n",
        "tail = 'is fun!'\n",
        "\n",
        "print(head + tail)"
      ],
      "execution_count": 0,
      "outputs": []
    },
    {
      "cell_type": "markdown",
      "metadata": {
        "pycharm": {
          "name": "#%% md\n"
        },
        "id": "J0xmRTqCuKAn",
        "colab_type": "text"
      },
      "source": [
        "#### 곱셈 연산"
      ]
    },
    {
      "cell_type": "code",
      "metadata": {
        "pycharm": {
          "is_executing": false,
          "name": "#%%\n"
        },
        "id": "cZ6w_bLsuKAo",
        "colab_type": "code",
        "outputId": "2dc75ca8-99e5-498d-bdab-3e9f66da7423",
        "colab": {}
      },
      "source": [
        "lan = 'Python'\n",
        "lan * 2\n"
      ],
      "execution_count": 0,
      "outputs": [
        {
          "output_type": "execute_result",
          "data": {
            "text/plain": [
              "'PythonPython'"
            ]
          },
          "metadata": {
            "tags": []
          },
          "execution_count": 5
        }
      ]
    },
    {
      "cell_type": "markdown",
      "metadata": {
        "id": "g8d6uB2ZuKAr",
        "colab_type": "text"
      },
      "source": [
        "# 리스트\n",
        "#### c언어의 배열과 비슷"
      ]
    },
    {
      "cell_type": "code",
      "metadata": {
        "pycharm": {
          "name": "#%%\n"
        },
        "id": "54u5DGSBuKAr",
        "colab_type": "code",
        "colab": {}
      },
      "source": [
        "shoplist = ['apple', 'mango', 'carrot', 'banana']\n",
        "print ('I have', len(shoplist), 'items to purchase.')\n",
        "\n",
        "print ('The first item I will buy is', shoplist[0])\n",
        "olditem = shoplist[0]\n",
        "del shoplist[0]\n",
        "print ('I bought the', olditem)\n",
        "print ('My shopping list is now', shoplist)\n",
        "\n",
        "\n"
      ],
      "execution_count": 0,
      "outputs": []
    },
    {
      "cell_type": "markdown",
      "metadata": {
        "pycharm": {
          "name": "#%% md\n"
        },
        "id": "LYm6Gm7guKAu",
        "colab_type": "text"
      },
      "source": [
        "# 인덱싱 & 슬라이싱\n",
        "![title](https://github.com/SHsix/Embedded_System/blob/master/Python_%EA%B8%B0%EC%B4%88/img/figure1.png?raw=1)"
      ]
    },
    {
      "cell_type": "code",
      "metadata": {
        "pycharm": {
          "is_executing": false,
          "name": "#%%\n"
        },
        "id": "R01tDtlPuKAv",
        "colab_type": "code",
        "outputId": "a130c3df-b387-457e-8355-9e1240dade77",
        "colab": {}
      },
      "source": [
        "str = 'Hello, python world!!'\n",
        "print(str[0], str[1], str[-4], str[7])\n",
        "print(str[7:13])\n"
      ],
      "execution_count": 0,
      "outputs": [
        {
          "output_type": "stream",
          "text": [
            "H e l p\n",
            "python\n"
          ],
          "name": "stdout"
        }
      ]
    },
    {
      "cell_type": "code",
      "metadata": {
        "pycharm": {
          "is_executing": false,
          "name": "#%%\n"
        },
        "id": "ZOzvxFmHuKAx",
        "colab_type": "code",
        "outputId": "d26e2637-18b5-4673-e57a-95374af5898d",
        "colab": {}
      },
      "source": [
        "print(shoplist)\n",
        "print(\"Slicing : \", shoplist[1:3])"
      ],
      "execution_count": 0,
      "outputs": [
        {
          "output_type": "stream",
          "text": [
            "['mango', 'carrot', 'banana']\n",
            "Slicing :  ['carrot', 'banana']\n"
          ],
          "name": "stdout"
        }
      ]
    },
    {
      "cell_type": "markdown",
      "metadata": {
        "pycharm": {
          "name": "#%% md\n"
        },
        "id": "xkIqvs6RuKAz",
        "colab_type": "text"
      },
      "source": [
        "# Python 입출력\n",
        "#### input(), print()"
      ]
    },
    {
      "cell_type": "code",
      "metadata": {
        "pycharm": {
          "is_executing": false,
          "name": "#%%\n"
        },
        "id": "Bv9dkevwuKA0",
        "colab_type": "code",
        "outputId": "1bd39a86-af8e-454c-8051-0f8247a6616e",
        "colab": {}
      },
      "source": [
        "name = input('what is your name :')\n",
        "\n",
        "print('My name is : {0}'.format(name))\n",
        "print('My name is : %s' %name)"
      ],
      "execution_count": 0,
      "outputs": [
        {
          "output_type": "stream",
          "text": [
            "My name is : hyeonsik\n",
            "My name is : hyeonsik\n"
          ],
          "name": "stdout"
        }
      ]
    },
    {
      "cell_type": "markdown",
      "metadata": {
        "pycharm": {
          "is_executing": false,
          "name": "#%% md\n"
        },
        "id": "DTdw7-GIuKA3",
        "colab_type": "text"
      },
      "source": [
        "# if 조건문\n",
        "#### if 조건:\n",
        "#### elif 다른조건 :\n",
        "#### else: (그 외 조건)"
      ]
    },
    {
      "cell_type": "code",
      "metadata": {
        "pycharm": {
          "name": "#%%\n"
        },
        "id": "npYi_K4kuKA3",
        "colab_type": "code",
        "colab": {}
      },
      "source": [
        "score=int(input('your score : '))\n",
        "\n",
        "if score >= 90:\n",
        "    grade = 'A'\n",
        "elif score >= 80:\n",
        "    grade = 'B'\n",
        "elif score>=70:\n",
        "    grade = 'C'\n",
        "elif score >= 60:\n",
        "    grade = 'D'\n",
        "else:\n",
        "    grade = 'F'\n",
        "print('score : ', score)\n",
        "print('grade : ', grade)"
      ],
      "execution_count": 0,
      "outputs": []
    },
    {
      "cell_type": "markdown",
      "metadata": {
        "pycharm": {
          "is_executing": false,
          "name": "#%% md\n"
        },
        "id": "XMLLxdGCuKA5",
        "colab_type": "text"
      },
      "source": [
        "# While 조건문\n",
        "#### while 조건:\n",
        "#### 조건이 참이면 while문 안 코드 반복"
      ]
    },
    {
      "cell_type": "code",
      "metadata": {
        "pycharm": {
          "name": "#%%\n"
        },
        "id": "FcEgHVWouKA6",
        "colab_type": "code",
        "colab": {}
      },
      "source": [
        "number = 23\n",
        "running = True\n",
        "while running:\n",
        "    guess = int(input('Enter an integer : '))\n",
        "    if guess == number:\n",
        "        print('Congratulations, you guessed it.')\n",
        "        running = False\n",
        "    elif guess < number:\n",
        "        print('No, it is a little higher than that.')\n",
        "    else:\n",
        "        print('No, it is a little lower than that.')\n",
        "else:\n",
        "    print('The while loop is over.')\n",
        "print('Done')"
      ],
      "execution_count": 0,
      "outputs": []
    },
    {
      "cell_type": "code",
      "metadata": {
        "pycharm": {
          "name": "#%% \n"
        },
        "id": "KpKhdiD5uKA8",
        "colab_type": "code",
        "colab": {}
      },
      "source": [
        ""
      ],
      "execution_count": 0,
      "outputs": []
    },
    {
      "cell_type": "markdown",
      "metadata": {
        "id": "7GSxSQtwuKA-",
        "colab_type": "text"
      },
      "source": [
        "\n"
      ]
    }
  ]
}