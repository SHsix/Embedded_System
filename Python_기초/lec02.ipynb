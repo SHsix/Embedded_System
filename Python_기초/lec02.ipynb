{
  "nbformat": 4,
  "nbformat_minor": 0,
  "metadata": {
    "colab": {
      "name": "lec02.ipynb",
      "provenance": [],
      "include_colab_link": true
    },
    "kernelspec": {
      "name": "python3",
      "display_name": "Python 3"
    },
    "pycharm": {
      "stem_cell": {
        "cell_type": "raw",
        "source": [],
        "metadata": {
          "collapsed": false
        }
      }
    }
  },
  "cells": [
    {
      "cell_type": "markdown",
      "metadata": {
        "id": "view-in-github",
        "colab_type": "text"
      },
      "source": [
        "<a href=\"https://colab.research.google.com/github/SHsix/Embedded_System/blob/master/Python_%EA%B8%B0%EC%B4%88/lec02.ipynb\" target=\"_parent\"><img src=\"https://colab.research.google.com/assets/colab-badge.svg\" alt=\"Open In Colab\"/></a>"
      ]
    },
    {
      "cell_type": "markdown",
      "metadata": {
        "id": "ripVzqYXAERA",
        "colab_type": "text"
      },
      "source": [
        "# Numpy 모듈 불러오기"
      ]
    },
    {
      "cell_type": "code",
      "metadata": {
        "id": "FRY19ZVAt7Sb",
        "colab_type": "code",
        "pycharm": {
          "is_executing": false
        },
        "colab": {}
      },
      "source": [
        "import numpy as np"
      ],
      "execution_count": 0,
      "outputs": []
    },
    {
      "cell_type": "markdown",
      "metadata": {
        "id": "u4iJXmMaAKxm",
        "colab_type": "text"
      },
      "source": [
        "# Python List -> Numpy 배열\n",
        "#### size - 배열의 크기, dtype - 배열 원소의 타입\n",
        "#### Python List와 같이 index 접근이 가능합니다"
      ]
    },
    {
      "cell_type": "code",
      "metadata": {
        "id": "cG8duVPd_aeB",
        "colab_type": "code",
        "outputId": "36d74af9-5110-4825-a2fe-09609cee9145",
        "pycharm": {
          "is_executing": false
        },
        "colab": {
          "base_uri": "https://localhost:8080/",
          "height": 89
        }
      },
      "source": [
        "list = [1, 2, 3]\n",
        "Array = np.array(list)\n",
        "\n",
        "print(Array)\n",
        "print(Array.size)\n",
        "print(Array.dtype)\n",
        "print(Array[1])"
      ],
      "execution_count": 0,
      "outputs": [
        {
          "output_type": "stream",
          "text": [
            "[1 2 3]\n",
            "3\n",
            "int32\n",
            "2\n"
          ],
          "name": "stdout"
        }
      ]
    },
    {
      "cell_type": "markdown",
      "metadata": {
        "id": "X7wiqn6YCrH_",
        "colab_type": "text"
      },
      "source": [
        "# 배열 초기화\n",
        "#### np.zeros -> 모든 값 0으로 초기화\n",
        "#### np.ones -> 모든 값 1로 초기화\n",
        "#### np.random.randint(0, 9, (3, 3)) -> 0 ~ 9 범위 내 (3, 3) 배열 생성"
      ]
    },
    {
      "cell_type": "code",
      "metadata": {
        "id": "TvSrNjwxAkha",
        "colab_type": "code",
        "outputId": "757278a6-5fcd-48d3-ad53-6d08100baec4",
        "pycharm": {
          "is_executing": false
        },
        "colab": {
          "base_uri": "https://localhost:8080/",
          "height": 89
        }
      },
      "source": [
        "arr1 = np.zeros((4, 4))\n",
        "print(arr1)"
      ],
      "execution_count": 0,
      "outputs": [
        {
          "output_type": "stream",
          "text": [
            "[[0. 0. 0. 0.]\n",
            " [0. 0. 0. 0.]\n",
            " [0. 0. 0. 0.]\n",
            " [0. 0. 0. 0.]]\n"
          ],
          "name": "stdout"
        }
      ]
    },
    {
      "cell_type": "code",
      "metadata": {
        "id": "rjIvEY79Dtub",
        "colab_type": "code",
        "outputId": "860ba16a-3795-4c99-88bc-54058d7f87cc",
        "pycharm": {
          "is_executing": false
        },
        "colab": {
          "base_uri": "https://localhost:8080/",
          "height": 71
        }
      },
      "source": [
        "arr2 = np.ones((3,3))\n",
        "print(arr2)"
      ],
      "execution_count": 0,
      "outputs": [
        {
          "output_type": "stream",
          "text": [
            "[[1. 1. 1.]\n",
            " [1. 1. 1.]\n",
            " [1. 1. 1.]]\n"
          ],
          "name": "stdout"
        }
      ]
    },
    {
      "cell_type": "code",
      "metadata": {
        "id": "tjFPkMScD-qh",
        "colab_type": "code",
        "outputId": "4649d7a4-a2d4-441b-f9b3-ce3b6eb02720",
        "pycharm": {
          "is_executing": false
        },
        "colab": {
          "base_uri": "https://localhost:8080/",
          "height": 71
        }
      },
      "source": [
        "arr3 = np.random.randint(0, 9, (3, 3))\n",
        "print(arr3)"
      ],
      "execution_count": 0,
      "outputs": [
        {
          "output_type": "stream",
          "text": [
            "[[5 1 5]\n",
            " [7 6 8]\n",
            " [3 7 8]]\n"
          ],
          "name": "stdout"
        }
      ]
    },
    {
      "cell_type": "markdown",
      "metadata": {
        "id": "EHii_w-bHa3q",
        "colab_type": "text"
      },
      "source": [
        "# 배열 합치기 & 배열 Shape변환\n",
        "![title](https://github.com/SHsix/Embedded_System/blob/master/Python_%EA%B8%B0%EC%B4%88/img/figure2.png?raw=1)\n",
        "####배열 합치기 : np.concatenate\n",
        "####배열 Shape : np.reshape"
      ]
    },
    {
      "cell_type": "code",
      "metadata": {
        "id": "Tp5pTtLQO5qa",
        "colab_type": "code",
        "outputId": "206ce2a8-91b5-4918-a38e-6b821f413a08",
        "pycharm": {
          "is_executing": false
        },
        "colab": {
          "base_uri": "https://localhost:8080/",
          "height": 89
        }
      },
      "source": [
        "array1 = np.array([1, 2])\n",
        "array2 = np.array([3, 4])\n",
        "array3 = np.concatenate([array1, array2])\n",
        "print(array3)\n",
        "print(array3.shape)\n",
        "array3 = array3.reshape(2, 2)\n",
        "print(array3)"
      ],
      "execution_count": 0,
      "outputs": [
        {
          "output_type": "stream",
          "text": [
            "[1 2 3 4]\n",
            "(4,)\n",
            "[[1 2]\n",
            " [3 4]]\n"
          ],
          "name": "stdout"
        }
      ]
    },
    {
      "cell_type": "markdown",
      "metadata": {
        "id": "sQaayewFS3Ss",
        "colab_type": "text"
      },
      "source": [
        "# Numpy Mask 연산\n",
        "#### 조건에 따라 배열의 각각 원소의 연산 결과로 True 혹은 False 변환\n",
        "#### [1, 2, 3, 4, 5] > 3 ==> [False, False, False, True, True]"
      ]
    },
    {
      "cell_type": "code",
      "metadata": {
        "pycharm": {
          "name": "#%%\n",
          "is_executing": false
        },
        "id": "O3-K-hNfSpZK",
        "colab_type": "code",
        "colab": {},
        "outputId": "b84e5024-002b-4be8-9f0a-64fe4933d037"
      },
      "source": [
        "data = np.array([95, 60, 75, 80, 90, 100])\n",
        "data_avg = data.sum()/len(data)\n",
        "data_mask = data > data_avg\n",
        "print(data)\n",
        "data_point = np.where(data_mask == True)\n",
        "print(data_point)\n",
        "for i in data_point:\n",
        "    print(data[i])"
      ],
      "execution_count": 0,
      "outputs": [
        {
          "output_type": "stream",
          "text": [
            "[ 95  60  75  80  90 100]\n",
            "(array([0, 4, 5], dtype=int64),)\n",
            "[ 95  90 100]\n"
          ],
          "name": "stdout"
        }
      ]
    }
  ]
}